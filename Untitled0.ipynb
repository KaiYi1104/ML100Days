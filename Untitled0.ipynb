{
  "nbformat": 4,
  "nbformat_minor": 0,
  "metadata": {
    "colab": {
      "name": "Untitled0.ipynb",
      "provenance": [],
      "authorship_tag": "ABX9TyOlJwT3tiC1yvURsOVJRDwm",
      "include_colab_link": true
    },
    "kernelspec": {
      "name": "python3",
      "display_name": "Python 3"
    },
    "language_info": {
      "name": "python"
    },
    "accelerator": "GPU"
  },
  "cells": [
    {
      "cell_type": "markdown",
      "metadata": {
        "id": "view-in-github",
        "colab_type": "text"
      },
      "source": [
        "<a href=\"https://colab.research.google.com/github/KaiYi1104/ML100Days/blob/main/Untitled0.ipynb\" target=\"_parent\"><img src=\"https://colab.research.google.com/assets/colab-badge.svg\" alt=\"Open In Colab\"/></a>"
      ]
    },
    {
      "cell_type": "code",
      "metadata": {
        "id": "UNaPG_cr1o_P"
      },
      "source": [
        "import pandas as pd\n",
        "import numpy as np\n",
        "import cv2\n",
        "import shutil\n",
        "import os\n",
        "class ImageReader:\n",
        "    def __init__(self, igdir='/content/big_img/'\n",
        "): # 設定圖片路徑\n",
        "        self.img_dir = igdir\n",
        "        self.imgs = []\n",
        "    def read_imgs(self,index=[0,]): #設定處理哪幾張，0表示第一張，1表示第二張，以此類推\n",
        "        self.imgs= os.listdir(self.img_dir)\n",
        "        print(self.imgs) # uncomment if need to check the image path\n",
        "\n",
        "class DataReader:\n",
        "    def __init__(self, dir=\"/content/big_csv/\"):\n",
        "        self.data_dir = dir\n",
        "        self.datas = []\n",
        "    def read_datas(self):\n",
        "        self.datas= os.listdir(self.data_dir)\n",
        "        print(self.datas)\n",
        "\n",
        "def save_the_model(modelname):\n",
        "    # 將訓練所得的參數存擋\n",
        "    ae.save(modelname)\n"
      ],
      "execution_count": 17,
      "outputs": []
    },
    {
      "cell_type": "code",
      "metadata": {
        "colab": {
          "base_uri": "https://localhost:8080/"
        },
        "id": "C4bAPpeK1sW6",
        "outputId": "3ddc3577-67ec-4c0e-85ef-42d5e65c0644"
      },
      "source": [
        "#ae_fromfile = load_model('C:/Users/wasev/OneDrive/Document/10902ML/mlproject-main/cnn/training/weights_smallcrop')\n",
        "imageReader = ImageReader()\n",
        "imageReader.read_imgs()\n",
        "dataReader = DataReader()\n",
        "dataReader.read_datas()\n",
        "plant = list()\n",
        "ans = list()\n",
        "for oneimg in imageReader.imgs[0:10]:#10張experiment\n",
        "    img=cv2.imread(imageReader.img_dir+oneimg)\n",
        "    print(img.shape) # dim\n",
        "    result = pd.read_csv(dataReader.data_dir+oneimg[0:-4]+\".csv\")\n",
        "    ##############################\n",
        "    # reshape to smaller image\n",
        "    ###############################\n",
        "    end_size = 48\n",
        "     # contain images of size end_size*end_size\n",
        "    for i in range(0, int(img.shape[0]/end_size)):\n",
        "        for j in range(0, int(img.shape[1]/end_size)):\n",
        "            tmp = img[(i*end_size):((i+1)*end_size), (j*end_size):((j+1)*end_size),:]\n",
        "            tmp = tmp/255\n",
        "            plant.append(tmp)\n",
        "    ###########################################\n",
        "    # reshape result to match smaller image\n",
        "    ###########################################\n",
        "    # Training model based on the answer\n",
        "    result_matrix = np.zeros((img.shape[0],img.shape[1]),dtype=\"int8\")\n",
        "    for i in range(0,result.shape[0]-1):\n",
        "        result_matrix[result.y[i], result.x[i]] = 1\n",
        "        \n",
        "     # contain the answer of size end_size*end_size\n",
        "    for i in range(0, int(result_matrix.shape[0]/end_size)):\n",
        "        for j in range(0, int(result_matrix.shape[1]/end_size)):\n",
        "            tmp2 = result_matrix[(i*end_size):((i+1)*end_size), (j*end_size):((j+1)*end_size)]\n",
        "            ans.append(tmp2)\n",
        "    print(len(ans))   \n",
        "    print(len(plant))   \n",
        "#print(len(ans))     \n",
        "#print(type(ans))      \n",
        "#print(len(plant))    \n",
        "#print(type(plant))               \n",
        "###########################################\n",
        "# reshape plant and ans as inputs for CNN \n",
        " ###########################################\n",
        "# [Batch_size,Channels,Height,Width]; batch_size = number of images\n",
        "plant = np.array(plant).reshape(-1,end_size,end_size,3)\n",
        "ans = np.array(ans).reshape(-1,end_size,end_size,1)\n",
        "#print(len(ans))     \n",
        "#print(type(ans))      \n",
        "#print(len(plant))    \n",
        "#print(type(plant))    "
      ],
      "execution_count": 18,
      "outputs": [
        {
          "output_type": "stream",
          "text": [
            "['DSC082791.JPG', 'DSC081272.JPG', 'DSC080694.JPG', 'DSC081104.JPG', 'DSC081681.JPG', 'DSC080454.JPG', 'DSC081721.JPG', 'DSC080552.JPG', 'DSC082144.JPG', 'DSC082123.JPG', 'DSC081724.JPG', 'DSC082761.JPG', 'DSC082151.JPG', 'DSC081022.JPG', 'DSC081871.JPG', 'DSC082112.JPG', 'DSC081101.JPG', 'DSC082764.JPG', 'DSC080993.JPG', 'DSC081693.JPG', 'DSC081682.JPG', 'DSC081541.JPG', 'DSC080814.JPG', 'DSC082451.JPG', 'DSC081093.JPG']\n",
            "['DSC082123.csv', 'DSC082151.csv', 'DSC081101.csv', 'DSC082144.csv', 'DSC080552.csv', 'DSC082791.csv', 'DSC081724.csv', 'DSC080454.csv', 'DSC081693.csv', 'DSC081104.csv', 'DSC082451.csv', 'DSC080993.csv', 'DSC081721.csv', 'DSC082764.csv', 'DSC081093.csv', 'DSC081022.csv', 'DSC081541.csv', 'DSC080694.csv', 'DSC081272.csv', 'DSC080814.csv', 'DSC081681.csv', 'DSC082112.csv', 'DSC082761.csv', 'DSC081682.csv', 'DSC081871.csv']\n",
            "(2000, 3000, 3)\n",
            "2542\n",
            "2542\n",
            "(2000, 3000, 3)\n",
            "5084\n",
            "5084\n",
            "(2000, 3000, 3)\n",
            "7626\n",
            "7626\n",
            "(2000, 3000, 3)\n",
            "10168\n",
            "10168\n",
            "(2000, 3000, 3)\n",
            "12710\n",
            "12710\n",
            "(2000, 3000, 3)\n",
            "15252\n",
            "15252\n",
            "(2000, 3000, 3)\n",
            "17794\n",
            "17794\n",
            "(2000, 3000, 3)\n",
            "20336\n",
            "20336\n",
            "(2000, 3000, 3)\n",
            "22878\n",
            "22878\n",
            "(2000, 3000, 3)\n",
            "25420\n",
            "25420\n"
          ],
          "name": "stdout"
        }
      ]
    },
    {
      "cell_type": "code",
      "metadata": {
        "colab": {
          "base_uri": "https://localhost:8080/"
        },
        "id": "bJq2RVtc16mb",
        "outputId": "11f6322f-f253-45e8-a809-82d47869f4b4"
      },
      "source": [
        "import tensorflow.keras as keras\n",
        "import math \n",
        "from tensorflow.keras.models import Model\n",
        "from tensorflow.keras.layers import Convolution2D, MaxPool2D, BatchNormalization, Input, UpSampling2D\n",
        "from tensorflow.keras.optimizers import Adam\n",
        "#from tensorflow.keras.models import model\n",
        "from sklearn.model_selection import train_test_split\n",
        "from tensorflow.keras.callbacks import LearningRateScheduler\n",
        "\n",
        "input_img = Input(shape=(end_size, end_size, 3))\n",
        "\n",
        "###### start encoding\n",
        "# CNN first layer\n",
        "# CNN convolution\n",
        "# 128 neurons (filters); 3x3 sliding windows; 'tanh' activation function\n",
        "# https://medium.com/@CinnamonAITaiwan/深度學習-cnn原理-keras實現-432fd9ea4935\n",
        "x = Convolution2D(128, (3,3), activation=\"tanh\",padding=\"same\")(input_img)\n",
        "# CNN Maxpooling\n",
        "# 2x2 scale of windows\n",
        "x = MaxPool2D(pool_size=(2,2))(x)\n",
        "# CNN batch normalization (防止 overfitting 並幫助提升整體收斂速度)\n",
        "x = BatchNormalization()(x)\n",
        "\n",
        "# CNN 2nd layer\n",
        "x = Convolution2D(256, (3,3), activation=\"tanh\",padding=\"same\")(x)\n",
        "x = MaxPool2D(pool_size=(2,2))(x)\n",
        "x = BatchNormalization()(x)\n",
        "\n",
        "# CNN 3rd layer\n",
        "x = Convolution2D(512, (3,3), activation=\"tanh\",padding=\"same\")(x)\n",
        "x = MaxPool2D(pool_size=(2,2))(x)\n",
        "x = BatchNormalization()(x)\n",
        "\n",
        "###### start decoding\n",
        "# CNN 4th layer\n",
        "x = Convolution2D(512, (3,3), activation=\"tanh\",padding=\"same\")(x)\n",
        "x = UpSampling2D((2,2), interpolation=\"bilinear\")(x)\n",
        "x = BatchNormalization()(x)\n",
        "\n",
        "# CNN 5th layer\n",
        "x = Convolution2D(256, (3,3), activation=\"tanh\",padding=\"same\")(x)\n",
        "x = UpSampling2D((2,2), interpolation=\"bilinear\")(x)\n",
        "x = BatchNormalization()(x)\n",
        "\n",
        "# CNN 6th layer\n",
        "x = Convolution2D(128, (3,3), activation=\"tanh\",padding=\"same\")(x)\n",
        "x = UpSampling2D((2,2), interpolation=\"bilinear\")(x)\n",
        "x = BatchNormalization()(x)\n",
        "\n",
        "# CNN 7th layer (the last) - the output layer\n",
        "# 因為需要輸出成類別資料，因此將 activtion function 改為 sigmoid\n",
        "# output_bias 參考 https://colab.research.google.com/github/tensorflow/docs/blob/master/site/en/tutorials/structured_data/imbalanced_data.ipynb?hl=id\n",
        "# Classification on imbalanced data\n",
        "output_bias = keras.initializers.Constant(math.log((ans.sum()/end_size/end_size/len(ans))))\n",
        "output = Convolution2D(1, (3, 3), activation=\"sigmoid\",padding=\"same\", \n",
        "                        bias_initializer=output_bias)(x)\n",
        "\n",
        "ae = Model(input_img, output)\n",
        "\n",
        "def step_decay(epoch):\n",
        "    initial_lrate = 10e-5\n",
        "    drop = 0.33\n",
        "    epochs_drop = 4.0\n",
        "    lrate = initial_lrate * math.pow(drop, math.floor((1+epoch)/epochs_drop))\n",
        "    return lrate\n",
        "lrate = LearningRateScheduler(step_decay)\n",
        "callbacks_list = [lrate]\n",
        "opt = Adam()\n",
        "ae.compile(optimizer = opt, loss=\"binary_crossentropy\", metrics=['accuracy'])\n",
        "ae.summary()\n",
        "\n"
      ],
      "execution_count": 19,
      "outputs": [
        {
          "output_type": "stream",
          "text": [
            "Model: \"model_3\"\n",
            "_________________________________________________________________\n",
            "Layer (type)                 Output Shape              Param #   \n",
            "=================================================================\n",
            "input_4 (InputLayer)         [(None, 48, 48, 3)]       0         \n",
            "_________________________________________________________________\n",
            "conv2d_21 (Conv2D)           (None, 48, 48, 128)       3584      \n",
            "_________________________________________________________________\n",
            "max_pooling2d_9 (MaxPooling2 (None, 24, 24, 128)       0         \n",
            "_________________________________________________________________\n",
            "batch_normalization_18 (Batc (None, 24, 24, 128)       512       \n",
            "_________________________________________________________________\n",
            "conv2d_22 (Conv2D)           (None, 24, 24, 256)       295168    \n",
            "_________________________________________________________________\n",
            "max_pooling2d_10 (MaxPooling (None, 12, 12, 256)       0         \n",
            "_________________________________________________________________\n",
            "batch_normalization_19 (Batc (None, 12, 12, 256)       1024      \n",
            "_________________________________________________________________\n",
            "conv2d_23 (Conv2D)           (None, 12, 12, 512)       1180160   \n",
            "_________________________________________________________________\n",
            "max_pooling2d_11 (MaxPooling (None, 6, 6, 512)         0         \n",
            "_________________________________________________________________\n",
            "batch_normalization_20 (Batc (None, 6, 6, 512)         2048      \n",
            "_________________________________________________________________\n",
            "conv2d_24 (Conv2D)           (None, 6, 6, 512)         2359808   \n",
            "_________________________________________________________________\n",
            "up_sampling2d_9 (UpSampling2 (None, 12, 12, 512)       0         \n",
            "_________________________________________________________________\n",
            "batch_normalization_21 (Batc (None, 12, 12, 512)       2048      \n",
            "_________________________________________________________________\n",
            "conv2d_25 (Conv2D)           (None, 12, 12, 256)       1179904   \n",
            "_________________________________________________________________\n",
            "up_sampling2d_10 (UpSampling (None, 24, 24, 256)       0         \n",
            "_________________________________________________________________\n",
            "batch_normalization_22 (Batc (None, 24, 24, 256)       1024      \n",
            "_________________________________________________________________\n",
            "conv2d_26 (Conv2D)           (None, 24, 24, 128)       295040    \n",
            "_________________________________________________________________\n",
            "up_sampling2d_11 (UpSampling (None, 48, 48, 128)       0         \n",
            "_________________________________________________________________\n",
            "batch_normalization_23 (Batc (None, 48, 48, 128)       512       \n",
            "_________________________________________________________________\n",
            "conv2d_27 (Conv2D)           (None, 48, 48, 1)         1153      \n",
            "=================================================================\n",
            "Total params: 5,321,985\n",
            "Trainable params: 5,318,401\n",
            "Non-trainable params: 3,584\n",
            "_________________________________________________________________\n"
          ],
          "name": "stdout"
        }
      ]
    },
    {
      "cell_type": "code",
      "metadata": {
        "colab": {
          "base_uri": "https://localhost:8080/"
        },
        "id": "ivfsuD5P4gqQ",
        "outputId": "6a025422-3eec-4197-b1c4-1713fc438bdc"
      },
      "source": [
        "x_train, x_valid, y_train, y_valid = train_test_split(plant, ans, test_size = 0.2, shuffle = True)\n",
        "print(x_train.shape)\n",
        "print(x_valid.shape)\n",
        "print(y_train.shape)\n",
        "print(y_valid.shape)\n",
        "history = ae.fit(x_train, y_train, verbose = 1, batch_size=48, epochs=35, \n",
        "                 validation_data=(x_valid, y_valid), shuffle=True, callbacks=callbacks_list)\n"
      ],
      "execution_count": 20,
      "outputs": [
        {
          "output_type": "stream",
          "text": [
            "(20336, 48, 48, 3)\n",
            "(5084, 48, 48, 3)\n",
            "(20336, 48, 48, 1)\n",
            "(5084, 48, 48, 1)\n",
            "Epoch 1/35\n",
            "424/424 [==============================] - 25s 57ms/step - loss: 0.0011 - accuracy: 0.9999 - val_loss: 0.0011 - val_accuracy: 0.9999\n",
            "Epoch 2/35\n",
            "424/424 [==============================] - 23s 55ms/step - loss: 0.0010 - accuracy: 0.9999 - val_loss: 0.0011 - val_accuracy: 0.9999\n",
            "Epoch 3/35\n",
            "424/424 [==============================] - 23s 54ms/step - loss: 0.0010 - accuracy: 0.9999 - val_loss: 0.0010 - val_accuracy: 0.9999\n",
            "Epoch 4/35\n",
            "424/424 [==============================] - 23s 54ms/step - loss: 9.5276e-04 - accuracy: 0.9999 - val_loss: 0.0010 - val_accuracy: 0.9999\n",
            "Epoch 5/35\n",
            "424/424 [==============================] - 23s 55ms/step - loss: 9.2355e-04 - accuracy: 0.9999 - val_loss: 0.0010 - val_accuracy: 0.9999\n",
            "Epoch 6/35\n",
            "424/424 [==============================] - 23s 55ms/step - loss: 8.8853e-04 - accuracy: 0.9999 - val_loss: 0.0010 - val_accuracy: 0.9999\n",
            "Epoch 7/35\n",
            "424/424 [==============================] - 23s 54ms/step - loss: 8.4101e-04 - accuracy: 0.9999 - val_loss: 0.0010 - val_accuracy: 0.9999\n",
            "Epoch 8/35\n",
            "424/424 [==============================] - 23s 54ms/step - loss: 7.4792e-04 - accuracy: 0.9999 - val_loss: 0.0011 - val_accuracy: 0.9999\n",
            "Epoch 9/35\n",
            "424/424 [==============================] - 23s 55ms/step - loss: 7.0576e-04 - accuracy: 0.9999 - val_loss: 0.0011 - val_accuracy: 0.9999\n",
            "Epoch 10/35\n",
            "424/424 [==============================] - 23s 55ms/step - loss: 6.7337e-04 - accuracy: 0.9999 - val_loss: 0.0011 - val_accuracy: 0.9999\n",
            "Epoch 11/35\n",
            "424/424 [==============================] - 23s 55ms/step - loss: 6.4656e-04 - accuracy: 0.9999 - val_loss: 0.0011 - val_accuracy: 0.9999\n",
            "Epoch 12/35\n",
            "424/424 [==============================] - 23s 55ms/step - loss: 6.0565e-04 - accuracy: 0.9999 - val_loss: 0.0011 - val_accuracy: 0.9999\n",
            "Epoch 13/35\n",
            "424/424 [==============================] - 23s 55ms/step - loss: 5.8792e-04 - accuracy: 0.9999 - val_loss: 0.0012 - val_accuracy: 0.9999\n",
            "Epoch 14/35\n",
            "424/424 [==============================] - 23s 55ms/step - loss: 5.7614e-04 - accuracy: 0.9999 - val_loss: 0.0012 - val_accuracy: 0.9999\n",
            "Epoch 15/35\n",
            "424/424 [==============================] - 23s 55ms/step - loss: 5.6506e-04 - accuracy: 0.9999 - val_loss: 0.0012 - val_accuracy: 0.9999\n",
            "Epoch 16/35\n",
            "424/424 [==============================] - 23s 55ms/step - loss: 5.5138e-04 - accuracy: 0.9999 - val_loss: 0.0012 - val_accuracy: 0.9999\n",
            "Epoch 17/35\n",
            "424/424 [==============================] - 23s 55ms/step - loss: 5.4732e-04 - accuracy: 0.9999 - val_loss: 0.0012 - val_accuracy: 0.9999\n",
            "Epoch 18/35\n",
            "424/424 [==============================] - 23s 55ms/step - loss: 5.4316e-04 - accuracy: 0.9999 - val_loss: 0.0012 - val_accuracy: 0.9999\n",
            "Epoch 19/35\n",
            "424/424 [==============================] - 23s 55ms/step - loss: 5.3942e-04 - accuracy: 0.9999 - val_loss: 0.0012 - val_accuracy: 0.9999\n",
            "Epoch 20/35\n",
            "424/424 [==============================] - 23s 55ms/step - loss: 5.3471e-04 - accuracy: 0.9999 - val_loss: 0.0012 - val_accuracy: 0.9999\n",
            "Epoch 21/35\n",
            "424/424 [==============================] - 23s 55ms/step - loss: 5.3286e-04 - accuracy: 0.9999 - val_loss: 0.0012 - val_accuracy: 0.9999\n",
            "Epoch 22/35\n",
            "424/424 [==============================] - 23s 55ms/step - loss: 5.3287e-04 - accuracy: 0.9999 - val_loss: 0.0012 - val_accuracy: 0.9999\n",
            "Epoch 23/35\n",
            "424/424 [==============================] - 23s 55ms/step - loss: 5.3150e-04 - accuracy: 0.9999 - val_loss: 0.0012 - val_accuracy: 0.9999\n",
            "Epoch 24/35\n",
            "424/424 [==============================] - 23s 55ms/step - loss: 5.2960e-04 - accuracy: 0.9999 - val_loss: 0.0012 - val_accuracy: 0.9999\n",
            "Epoch 25/35\n",
            "424/424 [==============================] - 23s 55ms/step - loss: 5.2956e-04 - accuracy: 0.9999 - val_loss: 0.0012 - val_accuracy: 0.9999\n",
            "Epoch 26/35\n",
            "424/424 [==============================] - 23s 55ms/step - loss: 5.2821e-04 - accuracy: 0.9999 - val_loss: 0.0012 - val_accuracy: 0.9999\n",
            "Epoch 27/35\n",
            "424/424 [==============================] - 23s 55ms/step - loss: 5.2848e-04 - accuracy: 0.9999 - val_loss: 0.0012 - val_accuracy: 0.9999\n",
            "Epoch 28/35\n",
            "424/424 [==============================] - 23s 55ms/step - loss: 5.2749e-04 - accuracy: 0.9999 - val_loss: 0.0012 - val_accuracy: 0.9999\n",
            "Epoch 29/35\n",
            "424/424 [==============================] - 23s 55ms/step - loss: 5.2690e-04 - accuracy: 0.9999 - val_loss: 0.0012 - val_accuracy: 0.9999\n",
            "Epoch 30/35\n",
            "424/424 [==============================] - 23s 55ms/step - loss: 5.2668e-04 - accuracy: 0.9999 - val_loss: 0.0012 - val_accuracy: 0.9999\n",
            "Epoch 31/35\n",
            "424/424 [==============================] - 23s 55ms/step - loss: 5.2681e-04 - accuracy: 0.9999 - val_loss: 0.0012 - val_accuracy: 0.9999\n",
            "Epoch 32/35\n",
            "424/424 [==============================] - 23s 55ms/step - loss: 5.2675e-04 - accuracy: 0.9999 - val_loss: 0.0012 - val_accuracy: 0.9999\n",
            "Epoch 33/35\n",
            "424/424 [==============================] - 23s 55ms/step - loss: 5.2683e-04 - accuracy: 0.9999 - val_loss: 0.0012 - val_accuracy: 0.9999\n",
            "Epoch 34/35\n",
            "424/424 [==============================] - 23s 55ms/step - loss: 5.2719e-04 - accuracy: 0.9999 - val_loss: 0.0012 - val_accuracy: 0.9999\n",
            "Epoch 35/35\n",
            "424/424 [==============================] - 23s 55ms/step - loss: 5.2679e-04 - accuracy: 0.9999 - val_loss: 0.0012 - val_accuracy: 0.9999\n"
          ],
          "name": "stdout"
        }
      ]
    },
    {
      "cell_type": "code",
      "metadata": {
        "colab": {
          "base_uri": "https://localhost:8080/",
          "height": 939
        },
        "id": "GGD-R36a1_mg",
        "outputId": "78a7267c-5a75-4b2d-91fd-ced16ef16055"
      },
      "source": [
        "\n",
        "import matplotlib.pyplot as plt\n",
        "# list all data in history\n",
        "print(history.history.keys())\n",
        "print(history.history['accuracy'])\n",
        "# summarize history for accuracy\n",
        "plt.plot(history.history['accuracy'])\n",
        "plt.plot(history.history['val_accuracy'])\n",
        "plt.title('model accuracy')\n",
        "plt.ylabel('accuracy')\n",
        "plt.xlabel('epoch')\n",
        "plt.legend(['train', 'test'], loc='upper left')\n",
        "plt.show()\n",
        "# summarize history for loss\n",
        "plt.plot(history.history['loss'])\n",
        "plt.plot(history.history['val_loss'])\n",
        "plt.title('Model Loss')\n",
        "plt.ylabel('Loss')\n",
        "plt.xlabel('Epoch')\n",
        "plt.legend(['loss','val_loss'], loc='upper right')\n",
        "plt.show()\n",
        "\n",
        "plt.plot(history.history['lr'])\n",
        "plt.title('model lr')\n",
        "plt.ylabel('lr')\n",
        "plt.xlabel('epoch')\n",
        "plt.legend(['lr'], loc='upper left')\n",
        "plt.show()\n",
        "\n",
        "\n",
        "save_the_model(\"25pic_48_48trytrain\")\n",
        "print(\"end\")\n"
      ],
      "execution_count": 21,
      "outputs": [
        {
          "output_type": "stream",
          "text": [
            "dict_keys(['loss', 'accuracy', 'val_loss', 'val_accuracy', 'lr'])\n",
            "[0.999875545501709, 0.9998754262924194, 0.9998751878738403, 0.9998749494552612, 0.999875545501709, 0.9998751878738403, 0.9998757243156433, 0.9998752474784851, 0.9998748302459717, 0.9998754262924194, 0.999875545501709, 0.9998756051063538, 0.9998754262924194, 0.9998753666877747, 0.9998759627342224, 0.9998754262924194, 0.9998751282691956, 0.9998757839202881, 0.9998749494552612, 0.9998754262924194, 0.9998748302459717, 0.9998757243156433, 0.9998761415481567, 0.999875009059906, 0.999875545501709, 0.9998754262924194, 0.999875545501709, 0.9998753666877747, 0.9998757243156433, 0.9998759627342224, 0.9998751878738403, 0.9998757243156433, 0.9998757839202881, 0.9998758435249329, 0.9998763799667358]\n"
          ],
          "name": "stdout"
        },
        {
          "output_type": "display_data",
          "data": {
            "image/png": "[encoded data removed]",
            "text/plain": [
              "<Figure size 432x288 with 1 Axes>"
            ]
          },
          "metadata": {
            "tags": [],
            "needs_background": "light"
          }
        },
        {
          "output_type": "display_data",
          "data": {
            "image/png": "[encoded data removed]",
            "text/plain": [
              "<Figure size 432x288 with 1 Axes>"
            ]
          },
          "metadata": {
            "tags": [],
            "needs_background": "light"
          }
        },
        {
          "output_type": "display_data",
          "data": {
            "image/png": "[encoded data removed]",
            "text/plain": [
              "<Figure size 432x288 with 1 Axes>"
            ]
          },
          "metadata": {
            "tags": [],
            "needs_background": "light"
          }
        },
        {
          "output_type": "stream",
          "text": [
            "INFO:tensorflow:Assets written to: 25pic_48_48trytrain/assets\n",
            "end\n"
          ],
          "name": "stdout"
        }
      ]
    },
    {
      "cell_type": "markdown",
      "metadata": {
        "id": "PVcglJacDnio"
      },
      "source": [
        "# New Section"
      ]
    }
  ]
}